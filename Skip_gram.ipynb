{
  "nbformat": 4,
  "nbformat_minor": 0,
  "metadata": {
    "colab": {
      "name": "Skip_gram.ipynb",
      "version": "0.3.2",
      "views": {},
      "default_view": {},
      "provenance": []
    },
    "kernelspec": {
      "name": "python3",
      "display_name": "Python 3"
    },
    "accelerator": "GPU"
  },
  "cells": [
    {
      "metadata": {
        "id": "cZrbXdtuA1B_",
        "colab_type": "code",
        "colab": {
          "autoexec": {
            "startup": false,
            "wait_interval": 0
          }
        }
      },
      "cell_type": "code",
      "source": [
        ""
      ],
      "execution_count": 0,
      "outputs": []
    },
    {
      "metadata": {
        "id": "KLmc3GLCS8Fe",
        "colab_type": "text"
      },
      "cell_type": "markdown",
      "source": [
        "Switch to change** Runtime Type**(Hardware Accelerator) to **GPU**"
      ]
    },
    {
      "metadata": {
        "id": "keYnbiIGS41n",
        "colab_type": "code",
        "colab": {
          "autoexec": {
            "startup": false,
            "wait_interval": 0
          }
        }
      },
      "cell_type": "code",
      "source": [
        "# Bookkeeping\n",
        "# http://pytorch.org/\n",
        "from os import path\n",
        "from wheel.pep425tags import get_abbr_impl, get_impl_ver, get_abi_tag\n",
        "platform = '{}{}-{}'.format(get_abbr_impl(), get_impl_ver(), get_abi_tag())\n",
        "\n",
        "accelerator = 'cu80' if path.exists('/opt/bin/nvidia-smi') else 'cpu'\n",
        "\n",
        "!pip install -q http://download.pytorch.org/whl/{accelerator}/torch-0.3.0.post4-{platform}-linux_x86_64.whl torchvision\n"
      ],
      "execution_count": 0,
      "outputs": []
    },
    {
      "metadata": {
        "id": "WiLtos4IDMgC",
        "colab_type": "text"
      },
      "cell_type": "markdown",
      "source": [
        "Installation"
      ]
    },
    {
      "metadata": {
        "id": "QuA5juiDDOEH",
        "colab_type": "code",
        "colab": {
          "autoexec": {
            "startup": false,
            "wait_interval": 0
          }
        }
      },
      "cell_type": "code",
      "source": [
        "import torch\n",
        "import torch.nn as nn\n",
        "from torch.autograd import Variable\n",
        "import torch.optim as optim\n",
        "import torch.nn.functional as F\n",
        "import nltk\n",
        "import random\n",
        "import numpy as np\n",
        "from collections import Counter\n",
        "flatten = lambda l: [item for sublist in l for item in sublist]\n",
        "random.seed(1024)"
      ],
      "execution_count": 0,
      "outputs": []
    },
    {
      "metadata": {
        "id": "ssq6G5snNd0c",
        "colab_type": "code",
        "colab": {
          "autoexec": {
            "startup": false,
            "wait_interval": 0
          },
          "base_uri": "https://localhost:8080/",
          "height": 52
        },
        "outputId": "3b92e781-93b3-400a-e249-5f1db424e120",
        "executionInfo": {
          "status": "ok",
          "timestamp": 1530689734834,
          "user_tz": -60,
          "elapsed": 602,
          "user": {
            "displayName": "George Igwegbe",
            "photoUrl": "//lh3.googleusercontent.com/-VGzYC8aUsgY/AAAAAAAAAAI/AAAAAAAAAs8/5fZKxSg6fJs/s50-c-k-no/photo.jpg",
            "userId": "117677675546471076295"
          }
        }
      },
      "cell_type": "code",
      "source": [
        "print(torch.__version__)\n",
        "print(nltk.__version__)"
      ],
      "execution_count": 4,
      "outputs": [
        {
          "output_type": "stream",
          "text": [
            "0.3.0.post4\n",
            "3.2.5\n"
          ],
          "name": "stdout"
        }
      ]
    },
    {
      "metadata": {
        "id": "bHJFPIepNfcZ",
        "colab_type": "code",
        "colab": {
          "autoexec": {
            "startup": false,
            "wait_interval": 0
          }
        }
      },
      "cell_type": "code",
      "source": [
        "USE_CUDA = torch.cuda.is_available()\n",
        "gpus = [0]\n",
        "torch.cuda.set_device(gpus[0])\n",
        "\n",
        "FloatTensor = torch.cuda.FloatTensor if USE_CUDA else torch.FloatTensor\n",
        "LongTensor = torch.cuda.LongTensor if USE_CUDA else torch.LongTensor\n",
        "ByteTensor = torch.cuda.ByteTensor if USE_CUDA else torch.ByteTensor"
      ],
      "execution_count": 0,
      "outputs": []
    },
    {
      "metadata": {
        "id": "VmZ5K84SNjEa",
        "colab_type": "code",
        "colab": {
          "autoexec": {
            "startup": false,
            "wait_interval": 0
          }
        }
      },
      "cell_type": "code",
      "source": [
        "def getBatch(batch_size, train_data):\n",
        "    random.shuffle(train_data)\n",
        "    sindex = 0\n",
        "    eindex = batch_size\n",
        "    while eindex < len(train_data):\n",
        "        batch = train_data[sindex: eindex]\n",
        "        temp = eindex\n",
        "        eindex = eindex + batch_size\n",
        "        sindex = temp\n",
        "        yield batch\n",
        "    \n",
        "    if eindex >= len(train_data):\n",
        "        batch = train_data[sindex:]\n",
        "        yield batch"
      ],
      "execution_count": 0,
      "outputs": []
    },
    {
      "metadata": {
        "id": "lmBPe9MkOEiq",
        "colab_type": "code",
        "colab": {
          "autoexec": {
            "startup": false,
            "wait_interval": 0
          }
        }
      },
      "cell_type": "code",
      "source": [
        "def prepare_sequence(seq, word2index):\n",
        "    idxs = list(map(lambda w: word2index[w] if word2index.get(w) is not None else word2index[\"<UNK>\"], seq))\n",
        "    return Variable(LongTensor(idxs))\n",
        "\n",
        "def prepare_word(word, word2index):\n",
        "    return Variable(LongTensor([word2index[word]]) if word2index.get(word) is not None else LongTensor([word2index[\"<UNK>\"]]))"
      ],
      "execution_count": 0,
      "outputs": []
    },
    {
      "metadata": {
        "id": "JVztEsrWOM4X",
        "colab_type": "text"
      },
      "cell_type": "markdown",
      "source": [
        "## Data load and Preprocessing "
      ]
    },
    {
      "metadata": {
        "id": "ntDCmEStOQG1",
        "colab_type": "text"
      },
      "cell_type": "markdown",
      "source": [
        "### Load corpus : Gutenberg corpus"
      ]
    },
    {
      "metadata": {
        "id": "OCLedKS_ObLN",
        "colab_type": "code",
        "colab": {
          "autoexec": {
            "startup": false,
            "wait_interval": 0
          },
          "base_uri": "https://localhost:8080/",
          "height": 70
        },
        "outputId": "a36fa8cb-28e5-4800-82e0-43e8f6c2fc93",
        "executionInfo": {
          "status": "ok",
          "timestamp": 1530689876276,
          "user_tz": -60,
          "elapsed": 2194,
          "user": {
            "displayName": "George Igwegbe",
            "photoUrl": "//lh3.googleusercontent.com/-VGzYC8aUsgY/AAAAAAAAAAI/AAAAAAAAAs8/5fZKxSg6fJs/s50-c-k-no/photo.jpg",
            "userId": "117677675546471076295"
          }
        }
      },
      "cell_type": "code",
      "source": [
        "nltk.download('gutenberg')"
      ],
      "execution_count": 9,
      "outputs": [
        {
          "output_type": "stream",
          "text": [
            "[nltk_data] Downloading package gutenberg to /content/nltk_data...\n",
            "[nltk_data]   Unzipping corpora/gutenberg.zip.\n"
          ],
          "name": "stdout"
        },
        {
          "output_type": "execute_result",
          "data": {
            "text/plain": [
              "True"
            ]
          },
          "metadata": {
            "tags": []
          },
          "execution_count": 9
        }
      ]
    },
    {
      "metadata": {
        "id": "xltl-vp8OIAB",
        "colab_type": "code",
        "colab": {
          "autoexec": {
            "startup": false,
            "wait_interval": 0
          },
          "base_uri": "https://localhost:8080/",
          "height": 337
        },
        "outputId": "a36e457f-fdc9-4ecf-a12e-406c678df88d",
        "executionInfo": {
          "status": "ok",
          "timestamp": 1530689878651,
          "user_tz": -60,
          "elapsed": 595,
          "user": {
            "displayName": "George Igwegbe",
            "photoUrl": "//lh3.googleusercontent.com/-VGzYC8aUsgY/AAAAAAAAAAI/AAAAAAAAAs8/5fZKxSg6fJs/s50-c-k-no/photo.jpg",
            "userId": "117677675546471076295"
          }
        }
      },
      "cell_type": "code",
      "source": [
        "nltk.corpus.gutenberg.fileids()"
      ],
      "execution_count": 10,
      "outputs": [
        {
          "output_type": "execute_result",
          "data": {
            "text/plain": [
              "['austen-emma.txt',\n",
              " 'austen-persuasion.txt',\n",
              " 'austen-sense.txt',\n",
              " 'bible-kjv.txt',\n",
              " 'blake-poems.txt',\n",
              " 'bryant-stories.txt',\n",
              " 'burgess-busterbrown.txt',\n",
              " 'carroll-alice.txt',\n",
              " 'chesterton-ball.txt',\n",
              " 'chesterton-brown.txt',\n",
              " 'chesterton-thursday.txt',\n",
              " 'edgeworth-parents.txt',\n",
              " 'melville-moby_dick.txt',\n",
              " 'milton-paradise.txt',\n",
              " 'shakespeare-caesar.txt',\n",
              " 'shakespeare-hamlet.txt',\n",
              " 'shakespeare-macbeth.txt',\n",
              " 'whitman-leaves.txt']"
            ]
          },
          "metadata": {
            "tags": []
          },
          "execution_count": 10
        }
      ]
    },
    {
      "metadata": {
        "id": "tL_Q_DgkOrd4",
        "colab_type": "code",
        "colab": {
          "autoexec": {
            "startup": false,
            "wait_interval": 0
          },
          "base_uri": "https://localhost:8080/",
          "height": 70
        },
        "outputId": "7e575ba3-a4ea-4cc0-c678-1da8086e8986",
        "executionInfo": {
          "status": "ok",
          "timestamp": 1530689980623,
          "user_tz": -60,
          "elapsed": 1404,
          "user": {
            "displayName": "George Igwegbe",
            "photoUrl": "//lh3.googleusercontent.com/-VGzYC8aUsgY/AAAAAAAAAAI/AAAAAAAAAs8/5fZKxSg6fJs/s50-c-k-no/photo.jpg",
            "userId": "117677675546471076295"
          }
        }
      },
      "cell_type": "code",
      "source": [
        "nltk.download('punkt')"
      ],
      "execution_count": 12,
      "outputs": [
        {
          "output_type": "stream",
          "text": [
            "[nltk_data] Downloading package punkt to /content/nltk_data...\n",
            "[nltk_data]   Unzipping tokenizers/punkt.zip.\n"
          ],
          "name": "stdout"
        },
        {
          "output_type": "execute_result",
          "data": {
            "text/plain": [
              "True"
            ]
          },
          "metadata": {
            "tags": []
          },
          "execution_count": 12
        }
      ]
    },
    {
      "metadata": {
        "id": "rUzqbmN8OTwp",
        "colab_type": "code",
        "colab": {
          "autoexec": {
            "startup": false,
            "wait_interval": 0
          }
        }
      },
      "cell_type": "code",
      "source": [
        "corpus = list(nltk.corpus.gutenberg.sents('melville-moby_dick.txt'))[:100] # sampling sentences for test\n",
        "corpus = [[word.lower() for word in sent] for sent in corpus]"
      ],
      "execution_count": 0,
      "outputs": []
    },
    {
      "metadata": {
        "id": "pNuXacGrPD00",
        "colab_type": "text"
      },
      "cell_type": "markdown",
      "source": [
        "Extract Stopwords from unigram distribution's tails"
      ]
    },
    {
      "metadata": {
        "id": "SzFDpdEBOiv5",
        "colab_type": "code",
        "colab": {
          "autoexec": {
            "startup": false,
            "wait_interval": 0
          }
        }
      },
      "cell_type": "code",
      "source": [
        "word_count = Counter(flatten(corpus))\n",
        "border = int(len(word_count) * 0.01) "
      ],
      "execution_count": 0,
      "outputs": []
    },
    {
      "metadata": {
        "id": "HGwkt4-YPGbm",
        "colab_type": "code",
        "colab": {
          "autoexec": {
            "startup": false,
            "wait_interval": 0
          }
        }
      },
      "cell_type": "code",
      "source": [
        "stopwords = word_count.most_common()[:border] + list(reversed(word_count.most_common()))[:border]"
      ],
      "execution_count": 0,
      "outputs": []
    },
    {
      "metadata": {
        "id": "ugoxCqmhPI6v",
        "colab_type": "code",
        "colab": {
          "autoexec": {
            "startup": false,
            "wait_interval": 0
          }
        }
      },
      "cell_type": "code",
      "source": [
        "stopwords = [s[0] for s in stopwords]"
      ],
      "execution_count": 0,
      "outputs": []
    },
    {
      "metadata": {
        "id": "-U4X6mODPMLG",
        "colab_type": "code",
        "colab": {
          "autoexec": {
            "startup": false,
            "wait_interval": 0
          },
          "base_uri": "https://localhost:8080/",
          "height": 35
        },
        "outputId": "c28c4132-8519-4c08-d79a-410bd5417231",
        "executionInfo": {
          "status": "ok",
          "timestamp": 1530690124841,
          "user_tz": -60,
          "elapsed": 538,
          "user": {
            "displayName": "George Igwegbe",
            "photoUrl": "//lh3.googleusercontent.com/-VGzYC8aUsgY/AAAAAAAAAAI/AAAAAAAAAs8/5fZKxSg6fJs/s50-c-k-no/photo.jpg",
            "userId": "117677675546471076295"
          }
        }
      },
      "cell_type": "code",
      "source": [
        "stopwords"
      ],
      "execution_count": 19,
      "outputs": [
        {
          "output_type": "execute_result",
          "data": {
            "text/plain": [
              "[',', '.', 'the', 'of', 'and', 'man', 'artificial', 'civitas', '--(', 'state']"
            ]
          },
          "metadata": {
            "tags": []
          },
          "execution_count": 19
        }
      ]
    },
    {
      "metadata": {
        "id": "IgBN_KzaPmar",
        "colab_type": "text"
      },
      "cell_type": "markdown",
      "source": [
        "### Build vocab"
      ]
    },
    {
      "metadata": {
        "id": "iEY5KSlcPbmr",
        "colab_type": "code",
        "colab": {
          "autoexec": {
            "startup": false,
            "wait_interval": 0
          }
        }
      },
      "cell_type": "code",
      "source": [
        "vocab = list(set(flatten(corpus)) - set(stopwords))\n",
        "vocab.append('<UNK>')"
      ],
      "execution_count": 0,
      "outputs": []
    },
    {
      "metadata": {
        "id": "X3VtrOzRPplt",
        "colab_type": "code",
        "colab": {
          "autoexec": {
            "startup": false,
            "wait_interval": 0
          },
          "base_uri": "https://localhost:8080/",
          "height": 35
        },
        "outputId": "0bc1da2c-01ba-4fc4-97ee-cfe75b27a0bc",
        "executionInfo": {
          "status": "ok",
          "timestamp": 1530690212847,
          "user_tz": -60,
          "elapsed": 598,
          "user": {
            "displayName": "George Igwegbe",
            "photoUrl": "//lh3.googleusercontent.com/-VGzYC8aUsgY/AAAAAAAAAAI/AAAAAAAAAs8/5fZKxSg6fJs/s50-c-k-no/photo.jpg",
            "userId": "117677675546471076295"
          }
        }
      },
      "cell_type": "code",
      "source": [
        "print(len(set(flatten(corpus))), len(vocab))"
      ],
      "execution_count": 21,
      "outputs": [
        {
          "output_type": "stream",
          "text": [
            "592 583\n"
          ],
          "name": "stdout"
        }
      ]
    },
    {
      "metadata": {
        "id": "EQ7J7VKyPsxI",
        "colab_type": "code",
        "colab": {
          "autoexec": {
            "startup": false,
            "wait_interval": 0
          }
        }
      },
      "cell_type": "code",
      "source": [
        "word2index = {'<UNK>' : 0} \n",
        "\n",
        "for vo in vocab:\n",
        "    if word2index.get(vo) is None:\n",
        "        word2index[vo] = len(word2index)\n",
        "\n",
        "index2word = {v:k for k, v in word2index.items()} "
      ],
      "execution_count": 0,
      "outputs": []
    },
    {
      "metadata": {
        "id": "gYlFYI8eP8kP",
        "colab_type": "text"
      },
      "cell_type": "markdown",
      "source": [
        "![alt text](http://mccormickml.com/assets/word2vec/training_data.png)"
      ]
    },
    {
      "metadata": {
        "id": "BYDvT0p3PyNz",
        "colab_type": "code",
        "colab": {
          "autoexec": {
            "startup": false,
            "wait_interval": 0
          }
        }
      },
      "cell_type": "code",
      "source": [
        "WINDOW_SIZE = 3\n",
        "windows = flatten([list(nltk.ngrams(['<DUMMY>'] * WINDOW_SIZE + c + ['<DUMMY>'] * WINDOW_SIZE, WINDOW_SIZE * 2 + 1)) for c in corpus])"
      ],
      "execution_count": 0,
      "outputs": []
    },
    {
      "metadata": {
        "id": "A7AIeOs2QeQp",
        "colab_type": "code",
        "colab": {
          "autoexec": {
            "startup": false,
            "wait_interval": 0
          },
          "base_uri": "https://localhost:8080/",
          "height": 35
        },
        "outputId": "9be052cb-5525-4d8b-a950-d9dbe2402662",
        "executionInfo": {
          "status": "ok",
          "timestamp": 1530690460876,
          "user_tz": -60,
          "elapsed": 382,
          "user": {
            "displayName": "George Igwegbe",
            "photoUrl": "//lh3.googleusercontent.com/-VGzYC8aUsgY/AAAAAAAAAAI/AAAAAAAAAs8/5fZKxSg6fJs/s50-c-k-no/photo.jpg",
            "userId": "117677675546471076295"
          }
        }
      },
      "cell_type": "code",
      "source": [
        "windows[0]"
      ],
      "execution_count": 27,
      "outputs": [
        {
          "output_type": "execute_result",
          "data": {
            "text/plain": [
              "('<DUMMY>', '<DUMMY>', '<DUMMY>', '[', 'moby', 'dick', 'by')"
            ]
          },
          "metadata": {
            "tags": []
          },
          "execution_count": 27
        }
      ]
    },
    {
      "metadata": {
        "id": "VUD6j1TIQoQq",
        "colab_type": "code",
        "colab": {
          "autoexec": {
            "startup": false,
            "wait_interval": 0
          },
          "base_uri": "https://localhost:8080/",
          "height": 35
        },
        "outputId": "6b99c4ac-b3ce-4ead-9d56-bcb516f889e8",
        "executionInfo": {
          "status": "ok",
          "timestamp": 1530690622168,
          "user_tz": -60,
          "elapsed": 574,
          "user": {
            "displayName": "George Igwegbe",
            "photoUrl": "//lh3.googleusercontent.com/-VGzYC8aUsgY/AAAAAAAAAAI/AAAAAAAAAs8/5fZKxSg6fJs/s50-c-k-no/photo.jpg",
            "userId": "117677675546471076295"
          }
        }
      },
      "cell_type": "code",
      "source": [
        "train_data = []\n",
        "\n",
        "for window in windows:\n",
        "    for i in range(WINDOW_SIZE * 2 + 1):\n",
        "        if i == WINDOW_SIZE or window[i] == '<DUMMY>': \n",
        "            continue\n",
        "        train_data.append((window[WINDOW_SIZE], window[i]))\n",
        "\n",
        "print(train_data[:WINDOW_SIZE * 2])\n"
      ],
      "execution_count": 28,
      "outputs": [
        {
          "output_type": "stream",
          "text": [
            "[('[', 'moby'), ('[', 'dick'), ('[', 'by'), ('moby', '['), ('moby', 'dick'), ('moby', 'by')]\n"
          ],
          "name": "stdout"
        }
      ]
    },
    {
      "metadata": {
        "id": "ehJczHyoQx9H",
        "colab_type": "code",
        "colab": {
          "autoexec": {
            "startup": false,
            "wait_interval": 0
          }
        }
      },
      "cell_type": "code",
      "source": [
        "X_p = []\n",
        "y_p = []"
      ],
      "execution_count": 0,
      "outputs": []
    },
    {
      "metadata": {
        "id": "RViFZHGFQ1DM",
        "colab_type": "code",
        "colab": {
          "autoexec": {
            "startup": false,
            "wait_interval": 0
          },
          "base_uri": "https://localhost:8080/",
          "height": 35
        },
        "outputId": "c5e84a06-003e-4554-8572-eddb72e58bac",
        "executionInfo": {
          "status": "ok",
          "timestamp": 1530690625516,
          "user_tz": -60,
          "elapsed": 597,
          "user": {
            "displayName": "George Igwegbe",
            "photoUrl": "//lh3.googleusercontent.com/-VGzYC8aUsgY/AAAAAAAAAAI/AAAAAAAAAs8/5fZKxSg6fJs/s50-c-k-no/photo.jpg",
            "userId": "117677675546471076295"
          }
        }
      },
      "cell_type": "code",
      "source": [
        "train_data[0]"
      ],
      "execution_count": 30,
      "outputs": [
        {
          "output_type": "execute_result",
          "data": {
            "text/plain": [
              "('[', 'moby')"
            ]
          },
          "metadata": {
            "tags": []
          },
          "execution_count": 30
        }
      ]
    },
    {
      "metadata": {
        "id": "XDFCKILmQ3J8",
        "colab_type": "code",
        "colab": {
          "autoexec": {
            "startup": false,
            "wait_interval": 0
          }
        }
      },
      "cell_type": "code",
      "source": [
        "for tr in train_data:\n",
        "    X_p.append(prepare_word(tr[0], word2index).view(1, -1))\n",
        "    y_p.append(prepare_word(tr[1], word2index).view(1, -1))"
      ],
      "execution_count": 0,
      "outputs": []
    },
    {
      "metadata": {
        "id": "-4SPDZXnQ5u5",
        "colab_type": "code",
        "colab": {
          "autoexec": {
            "startup": false,
            "wait_interval": 0
          }
        }
      },
      "cell_type": "code",
      "source": [
        "train_data = list(zip(X_p, y_p))"
      ],
      "execution_count": 0,
      "outputs": []
    },
    {
      "metadata": {
        "id": "7B6q-mv2Q8B7",
        "colab_type": "code",
        "colab": {
          "autoexec": {
            "startup": false,
            "wait_interval": 0
          },
          "base_uri": "https://localhost:8080/",
          "height": 35
        },
        "outputId": "78745c24-da57-4f13-a12e-91aa77544841",
        "executionInfo": {
          "status": "ok",
          "timestamp": 1530690635460,
          "user_tz": -60,
          "elapsed": 622,
          "user": {
            "displayName": "George Igwegbe",
            "photoUrl": "//lh3.googleusercontent.com/-VGzYC8aUsgY/AAAAAAAAAAI/AAAAAAAAAs8/5fZKxSg6fJs/s50-c-k-no/photo.jpg",
            "userId": "117677675546471076295"
          }
        }
      },
      "cell_type": "code",
      "source": [
        "len(train_data)"
      ],
      "execution_count": 33,
      "outputs": [
        {
          "output_type": "execute_result",
          "data": {
            "text/plain": [
              "7606"
            ]
          },
          "metadata": {
            "tags": []
          },
          "execution_count": 33
        }
      ]
    },
    {
      "metadata": {
        "id": "W_vIHkaXQ-jQ",
        "colab_type": "code",
        "colab": {
          "autoexec": {
            "startup": false,
            "wait_interval": 0
          }
        }
      },
      "cell_type": "code",
      "source": [
        "class Skipgram(nn.Module):\n",
        "    \n",
        "    def __init__(self, vocab_size, projection_dim):\n",
        "        super(Skipgram,self).__init__()\n",
        "        self.embedding_v = nn.Embedding(vocab_size, projection_dim)\n",
        "        self.embedding_u = nn.Embedding(vocab_size, projection_dim)\n",
        "\n",
        "        self.embedding_v.weight.data.uniform_(-1, 1) # init\n",
        "        self.embedding_u.weight.data.uniform_(0, 0) # init\n",
        "        #self.out = nn.Linear(projection_dim,vocab_size)\n",
        "    def forward(self, center_words,target_words, outer_words):\n",
        "        center_embeds = self.embedding_v(center_words) # B x 1 x D\n",
        "        target_embeds = self.embedding_u(target_words) # B x 1 x D\n",
        "        outer_embeds = self.embedding_u(outer_words) # B x V x D\n",
        "        \n",
        "        scores = target_embeds.bmm(center_embeds.transpose(1, 2)).squeeze(2) # Bx1xD * BxDx1 => Bx1\n",
        "        norm_scores = outer_embeds.bmm(center_embeds.transpose(1, 2)).squeeze(2) # BxVxD * BxDx1 => BxV\n",
        "        \n",
        "        nll = -torch.mean(torch.log(torch.exp(scores)/torch.sum(torch.exp(norm_scores), 1).unsqueeze(1))) # log-softmax\n",
        "        \n",
        "        return nll # negative log likelihood\n",
        "    \n",
        "    def prediction(self, inputs):\n",
        "        embeds = self.embedding_v(inputs)\n",
        "        \n",
        "        return embeds "
      ],
      "execution_count": 0,
      "outputs": []
    },
    {
      "metadata": {
        "id": "m-05bGSXRF5i",
        "colab_type": "text"
      },
      "cell_type": "markdown",
      "source": [
        "## Train  "
      ]
    },
    {
      "metadata": {
        "id": "1TTC1xKuRGzz",
        "colab_type": "code",
        "colab": {
          "autoexec": {
            "startup": false,
            "wait_interval": 0
          }
        }
      },
      "cell_type": "code",
      "source": [
        "EMBEDDING_SIZE = 30\n",
        "BATCH_SIZE = 256\n",
        "EPOCH = 100"
      ],
      "execution_count": 0,
      "outputs": []
    },
    {
      "metadata": {
        "id": "2faGBgdhRJjL",
        "colab_type": "code",
        "colab": {
          "autoexec": {
            "startup": false,
            "wait_interval": 0
          }
        }
      },
      "cell_type": "code",
      "source": [
        "losses = []\n",
        "model = Skipgram(len(word2index), EMBEDDING_SIZE)\n",
        "if USE_CUDA:\n",
        "    model = model.cuda()\n",
        "optimizer = optim.Adam(model.parameters(), lr=0.01)"
      ],
      "execution_count": 0,
      "outputs": []
    },
    {
      "metadata": {
        "id": "w_5OsNUrRLaV",
        "colab_type": "code",
        "colab": {
          "autoexec": {
            "startup": false,
            "wait_interval": 0
          },
          "base_uri": "https://localhost:8080/",
          "height": 195
        },
        "outputId": "20e1ec25-a581-4056-d861-4e52abf393ab",
        "executionInfo": {
          "status": "ok",
          "timestamp": 1530690666654,
          "user_tz": -60,
          "elapsed": 24188,
          "user": {
            "displayName": "George Igwegbe",
            "photoUrl": "//lh3.googleusercontent.com/-VGzYC8aUsgY/AAAAAAAAAAI/AAAAAAAAAs8/5fZKxSg6fJs/s50-c-k-no/photo.jpg",
            "userId": "117677675546471076295"
          }
        }
      },
      "cell_type": "code",
      "source": [
        "for epoch in range(EPOCH):\n",
        "    for i, batch in enumerate(getBatch(BATCH_SIZE, train_data)):\n",
        "        \n",
        "        inputs, targets = zip(*batch)\n",
        "        \n",
        "        inputs = torch.cat(inputs) # B x 1\n",
        "        targets = torch.cat(targets) # B x 1\n",
        "        vocabs = prepare_sequence(list(vocab), word2index).expand(inputs.size(0), len(vocab))  # B x V\n",
        "        model.zero_grad()\n",
        "\n",
        "        loss = model(inputs, targets, vocabs)\n",
        "        \n",
        "        loss.backward()\n",
        "        optimizer.step()\n",
        "   \n",
        "        losses.append(loss.data.tolist()[0])\n",
        "\n",
        "    if epoch % 10 == 0:\n",
        "        print(\"Epoch : %d, mean_loss : %.02f\" % (epoch,np.mean(losses)))\n",
        "        losses = []"
      ],
      "execution_count": 37,
      "outputs": [
        {
          "output_type": "stream",
          "text": [
            "Epoch : 0, mean_loss : 6.22\n",
            "Epoch : 10, mean_loss : 4.36\n",
            "Epoch : 20, mean_loss : 3.47\n",
            "Epoch : 30, mean_loss : 3.31\n",
            "Epoch : 40, mean_loss : 3.26\n",
            "Epoch : 50, mean_loss : 3.24\n",
            "Epoch : 60, mean_loss : 3.23\n",
            "Epoch : 70, mean_loss : 3.21\n",
            "Epoch : 80, mean_loss : 3.21\n",
            "Epoch : 90, mean_loss : 3.20\n"
          ],
          "name": "stdout"
        }
      ]
    },
    {
      "metadata": {
        "id": "03LeOBbGRRCk",
        "colab_type": "code",
        "colab": {
          "autoexec": {
            "startup": false,
            "wait_interval": 0
          }
        }
      },
      "cell_type": "code",
      "source": [
        "def word_similarity(target, vocab):\n",
        "    if USE_CUDA:\n",
        "        target_V = model.prediction(prepare_word(target, word2index))\n",
        "    else:\n",
        "        target_V = model.prediction(prepare_word(target, word2index))\n",
        "    similarities = []\n",
        "    for i in range(len(vocab)):\n",
        "        if vocab[i] == target: continue\n",
        "        \n",
        "        if USE_CUDA:\n",
        "            vector = model.prediction(prepare_word(list(vocab)[i], word2index))\n",
        "        else:\n",
        "            vector = model.prediction(prepare_word(list(vocab)[i], word2index))\n",
        "        cosine_sim = F.cosine_similarity(target_V, vector).data.tolist()[0] \n",
        "        similarities.append([vocab[i], cosine_sim])\n",
        "    return sorted(similarities, key=lambda x: x[1], reverse=True)[:10] # sort by similarity"
      ],
      "execution_count": 0,
      "outputs": []
    },
    {
      "metadata": {
        "id": "o7exndwWRB6s",
        "colab_type": "code",
        "colab": {
          "autoexec": {
            "startup": false,
            "wait_interval": 0
          },
          "base_uri": "https://localhost:8080/",
          "height": 35
        },
        "outputId": "c1f8d68f-38b9-4817-a0d5-42c7ecdc32f1",
        "executionInfo": {
          "status": "ok",
          "timestamp": 1530690945781,
          "user_tz": -60,
          "elapsed": 630,
          "user": {
            "displayName": "George Igwegbe",
            "photoUrl": "//lh3.googleusercontent.com/-VGzYC8aUsgY/AAAAAAAAAAI/AAAAAAAAAs8/5fZKxSg6fJs/s50-c-k-no/photo.jpg",
            "userId": "117677675546471076295"
          }
        }
      },
      "cell_type": "code",
      "source": [
        "test = random.choice(list(vocab))\n",
        "test"
      ],
      "execution_count": 55,
      "outputs": [
        {
          "output_type": "execute_result",
          "data": {
            "text/plain": [
              "'loves'"
            ]
          },
          "metadata": {
            "tags": []
          },
          "execution_count": 55
        }
      ]
    },
    {
      "metadata": {
        "id": "uUQD-LtGSDDr",
        "colab_type": "code",
        "colab": {
          "autoexec": {
            "startup": false,
            "wait_interval": 0
          },
          "base_uri": "https://localhost:8080/",
          "height": 35
        },
        "outputId": "1be3f2be-3839-446b-a2e1-288a4b2209a0",
        "executionInfo": {
          "status": "ok",
          "timestamp": 1530690946914,
          "user_tz": -60,
          "elapsed": 605,
          "user": {
            "displayName": "George Igwegbe",
            "photoUrl": "//lh3.googleusercontent.com/-VGzYC8aUsgY/AAAAAAAAAAI/AAAAAAAAAs8/5fZKxSg6fJs/s50-c-k-no/photo.jpg",
            "userId": "117677675546471076295"
          }
        }
      },
      "cell_type": "code",
      "source": [
        "vocab[13]"
      ],
      "execution_count": 56,
      "outputs": [
        {
          "output_type": "execute_result",
          "data": {
            "text/plain": [
              "'stowe'"
            ]
          },
          "metadata": {
            "tags": []
          },
          "execution_count": 56
        }
      ]
    },
    {
      "metadata": {
        "id": "gP2n1E5QRw-U",
        "colab_type": "code",
        "colab": {
          "autoexec": {
            "startup": false,
            "wait_interval": 0
          },
          "base_uri": "https://localhost:8080/",
          "height": 35
        },
        "outputId": "a719454e-3cd2-4b2d-e727-41df57f6d623",
        "executionInfo": {
          "status": "ok",
          "timestamp": 1530690952039,
          "user_tz": -60,
          "elapsed": 588,
          "user": {
            "displayName": "George Igwegbe",
            "photoUrl": "//lh3.googleusercontent.com/-VGzYC8aUsgY/AAAAAAAAAAI/AAAAAAAAAs8/5fZKxSg6fJs/s50-c-k-no/photo.jpg",
            "userId": "117677675546471076295"
          }
        }
      },
      "cell_type": "code",
      "source": [
        "test"
      ],
      "execution_count": 57,
      "outputs": [
        {
          "output_type": "execute_result",
          "data": {
            "text/plain": [
              "'loves'"
            ]
          },
          "metadata": {
            "tags": []
          },
          "execution_count": 57
        }
      ]
    },
    {
      "metadata": {
        "id": "09Psx0rpRryj",
        "colab_type": "code",
        "colab": {
          "autoexec": {
            "startup": false,
            "wait_interval": 0
          },
          "base_uri": "https://localhost:8080/",
          "height": 195
        },
        "outputId": "66e6ff25-8c52-499f-bfa1-8147400c5bed",
        "executionInfo": {
          "status": "ok",
          "timestamp": 1530690954208,
          "user_tz": -60,
          "elapsed": 1212,
          "user": {
            "displayName": "George Igwegbe",
            "photoUrl": "//lh3.googleusercontent.com/-VGzYC8aUsgY/AAAAAAAAAAI/AAAAAAAAAs8/5fZKxSg6fJs/s50-c-k-no/photo.jpg",
            "userId": "117677675546471076295"
          }
        }
      },
      "cell_type": "code",
      "source": [
        "word_similarity(test, vocab)"
      ],
      "execution_count": 58,
      "outputs": [
        {
          "output_type": "execute_result",
          "data": {
            "text/plain": [
              "[['sometimes', 0.7608239650726318],\n",
              " ['sit', 0.7173424363136292],\n",
              " ['wallow', 0.6122168302536011],\n",
              " ['quid', 0.6092699766159058],\n",
              " ['nescio', 0.5988185405731201],\n",
              " ['with', 0.5928055644035339],\n",
              " ['queer', 0.5237530469894409],\n",
              " ['summer', 0.5179896950721741],\n",
              " ['think', 0.5179137587547302],\n",
              " ['flies', 0.5171153545379639]]"
            ]
          },
          "metadata": {
            "tags": []
          },
          "execution_count": 58
        }
      ]
    },
    {
      "metadata": {
        "id": "LZ1rqfhbRvK0",
        "colab_type": "code",
        "colab": {
          "autoexec": {
            "startup": false,
            "wait_interval": 0
          }
        }
      },
      "cell_type": "code",
      "source": [
        "test = \"queen\""
      ],
      "execution_count": 0,
      "outputs": []
    },
    {
      "metadata": {
        "id": "i6BnAQ9vR5E-",
        "colab_type": "code",
        "colab": {
          "autoexec": {
            "startup": false,
            "wait_interval": 0
          },
          "base_uri": "https://localhost:8080/",
          "height": 195
        },
        "outputId": "834771f0-ba9c-49e1-8687-31f18512e659",
        "executionInfo": {
          "status": "ok",
          "timestamp": 1530690972887,
          "user_tz": -60,
          "elapsed": 1175,
          "user": {
            "displayName": "George Igwegbe",
            "photoUrl": "//lh3.googleusercontent.com/-VGzYC8aUsgY/AAAAAAAAAAI/AAAAAAAAAs8/5fZKxSg6fJs/s50-c-k-no/photo.jpg",
            "userId": "117677675546471076295"
          }
        }
      },
      "cell_type": "code",
      "source": [
        "word_similarity(test, vocab)"
      ],
      "execution_count": 62,
      "outputs": [
        {
          "output_type": "execute_result",
          "data": {
            "text/plain": [
              "[['montaigne', 0.6814744472503662],\n",
              " ['rabelais', 0.6592515707015991],\n",
              " ['sir', 0.6556465029716492],\n",
              " ['ibid', 0.6438528895378113],\n",
              " ['william', 0.6423870325088501],\n",
              " ['890', 0.6269690990447998],\n",
              " ['raimond', 0.623751699924469],\n",
              " ['tooke', 0.598658561706543],\n",
              " ['islands', 0.5831818580627441],\n",
              " ['t', 0.5658450126647949]]"
            ]
          },
          "metadata": {
            "tags": []
          },
          "execution_count": 62
        }
      ]
    },
    {
      "metadata": {
        "id": "bPFVs1eTR8bW",
        "colab_type": "code",
        "colab": {
          "autoexec": {
            "startup": false,
            "wait_interval": 0
          }
        }
      },
      "cell_type": "code",
      "source": [
        ""
      ],
      "execution_count": 0,
      "outputs": []
    }
  ]
}