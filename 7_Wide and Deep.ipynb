{
 "cells": [
  {
   "cell_type": "code",
   "execution_count": 12,
   "metadata": {
    "collapsed": true
   },
   "outputs": [],
   "source": [
    "import torch\n",
    "from torch.autograd import Variable\n",
    "import numpy as np"
   ]
  },
  {
   "cell_type": "code",
   "execution_count": 13,
   "metadata": {
    "collapsed": true
   },
   "outputs": [],
   "source": [
    "xy = np.loadtxt(\"data/diabetes.csv\", delimiter=\",\", dtype=np.float32)"
   ]
  },
  {
   "cell_type": "code",
   "execution_count": 15,
   "metadata": {},
   "outputs": [],
   "source": [
    "x_data = Variable(torch.from_numpy(xy[:,0:-1]))\n",
    "y_data = Variable(torch.from_numpy(xy[:, [-1]]))"
   ]
  },
  {
   "cell_type": "code",
   "execution_count": 16,
   "metadata": {},
   "outputs": [
    {
     "name": "stdout",
     "output_type": "stream",
     "text": [
      "torch.Size([759, 8])\n",
      "torch.Size([759, 1])\n"
     ]
    }
   ],
   "source": [
    "# Output the shape \n",
    "print(x_data.data.shape)\n",
    "print(y_data.data.shape)"
   ]
  },
  {
   "cell_type": "code",
   "execution_count": 20,
   "metadata": {},
   "outputs": [],
   "source": [
    "class Model(torch.nn.Module):\n",
    "    \n",
    "    def __init__(self):\n",
    "        \"\"\"\n",
    "        In the constructor we instanitate two nn.Linear module\n",
    "        \"\"\"\n",
    "        super(Model, self).__init__()\n",
    "        self.l1 = torch.nn.Linear(8,6)\n",
    "        self.l2 = torch.nn.Linear(6,4)\n",
    "        self.l3 = torch.nn.Linear(4,1)\n",
    "        \n",
    "        self.sigmoid = torch.nn.Sigmoid()\n",
    "    \n",
    "    def forward(self, x):\n",
    "        \"\"\"\n",
    "        In the forward function we accept a Variable of input data and we must return \n",
    "        a Variable of output data. We can use Modules defined in the constructor as \n",
    "        well as arbitrary operators on Variables.\n",
    "        \"\"\"\n",
    "        out1 = self.sigmoid(self.l1(x))\n",
    "        out2 = self.sigmoid(self.l2(out1))\n",
    "        y_pred = self.sigmoid(self.l3(out2))\n",
    "        return y_pred\n"
   ]
  },
  {
   "cell_type": "code",
   "execution_count": 24,
   "metadata": {},
   "outputs": [
    {
     "name": "stdout",
     "output_type": "stream",
     "text": [
      "0 0.6659185886383057\n",
      "1 0.6637637615203857\n",
      "2 0.6618373990058899\n",
      "3 0.6601167917251587\n",
      "4 0.6585786938667297\n",
      "5 0.6572026610374451\n",
      "6 0.6559723019599915\n",
      "7 0.6548712253570557\n",
      "8 0.6538848876953125\n",
      "9 0.6530018448829651\n",
      "10 0.6522111296653748\n",
      "11 0.6515025496482849\n",
      "12 0.6508677005767822\n",
      "13 0.6502974033355713\n",
      "14 0.6497867703437805\n",
      "15 0.6493284702301025\n",
      "16 0.6489173173904419\n",
      "17 0.6485481262207031\n",
      "18 0.6482166647911072\n",
      "19 0.6479191184043884\n",
      "20 0.6476511359214783\n",
      "21 0.6474109888076782\n",
      "22 0.6471954584121704\n",
      "23 0.647001326084137\n",
      "24 0.646826446056366\n",
      "25 0.6466696262359619\n",
      "26 0.6465283632278442\n",
      "27 0.6464009881019592\n",
      "28 0.6462873816490173\n",
      "29 0.6461842060089111\n",
      "30 0.6460911631584167\n",
      "31 0.6460074186325073\n",
      "32 0.6459328532218933\n",
      "33 0.6458649635314941\n",
      "34 0.6458040475845337\n",
      "35 0.645749032497406\n",
      "36 0.6456995010375977\n",
      "37 0.6456549763679504\n",
      "38 0.6456146240234375\n",
      "39 0.6455786824226379\n",
      "40 0.645545482635498\n",
      "41 0.6455157399177551\n",
      "42 0.6454887986183167\n",
      "43 0.6454650163650513\n",
      "44 0.6454430818557739\n",
      "45 0.6454233527183533\n",
      "46 0.6454055905342102\n",
      "47 0.6453889012336731\n",
      "48 0.6453741788864136\n",
      "49 0.6453612446784973\n",
      "50 0.6453495025634766\n",
      "51 0.6453376412391663\n",
      "52 0.64532870054245\n",
      "53 0.6453191041946411\n",
      "54 0.6453110575675964\n",
      "55 0.6453033685684204\n",
      "56 0.6452968716621399\n",
      "57 0.6452908515930176\n",
      "58 0.6452849507331848\n",
      "59 0.6452801823616028\n",
      "60 0.6452745795249939\n",
      "61 0.6452705264091492\n",
      "62 0.6452667117118835\n",
      "63 0.645263135433197\n",
      "64 0.6452594995498657\n",
      "65 0.6452569961547852\n",
      "66 0.6452539563179016\n",
      "67 0.6452510952949524\n",
      "68 0.6452488899230957\n",
      "69 0.6452462077140808\n",
      "70 0.6452435255050659\n",
      "71 0.6452419757843018\n",
      "72 0.6452397108078003\n",
      "73 0.6452385187149048\n",
      "74 0.645236074924469\n",
      "75 0.6452347040176392\n",
      "76 0.6452334523200989\n",
      "77 0.645232081413269\n",
      "78 0.6452306509017944\n",
      "79 0.645229160785675\n",
      "80 0.6452280282974243\n",
      "81 0.6452271342277527\n",
      "82 0.6452254056930542\n",
      "83 0.6452244520187378\n",
      "84 0.6452236175537109\n",
      "85 0.6452223062515259\n",
      "86 0.6452215909957886\n",
      "87 0.6452206969261169\n",
      "88 0.6452195048332214\n",
      "89 0.6452188491821289\n",
      "90 0.6452177166938782\n",
      "91 0.6452165246009827\n",
      "92 0.6452153325080872\n",
      "93 0.6452144980430603\n",
      "94 0.6452141404151917\n",
      "95 0.6452129483222961\n",
      "96 0.6452123522758484\n",
      "97 0.6452109813690186\n",
      "98 0.6452107429504395\n",
      "99 0.6452100872993469\n"
     ]
    }
   ],
   "source": [
    "# The Model\n",
    "model = Model()\n",
    "\"\"\"\n",
    "Construct our loss function and an Optimizer. The call to model.parameters()\n",
    "in the SGD constructor will contain the learnable parameters of the two\n",
    "nn.Linear modules which are members of the model.\n",
    "\"\"\"\n",
    "criterion = torch.nn.BCELoss(size_average=True)\n",
    "optimizer = torch.optim.SGD(model.parameters(), lr=0.1)\n",
    "\n",
    "# Training loop\n",
    "for epoch in range(100):\n",
    "    # Forward pass: compute predicted y by passing x to the model;\n",
    "    y_pred = model(x_data)\n",
    "    \n",
    "    \n",
    "    # Compute and print loss\n",
    "    loss = criterion(y_pred, y_data)\n",
    "    print(epoch, loss.data[0])\n",
    "    \n",
    "    # Zero gradients, perform a backward pass, and update the weights.\n",
    "    optimizer.zero_grad()\n",
    "    loss.backward()\n",
    "    optimizer.step()\n",
    "    "
   ]
  },
  {
   "cell_type": "code",
   "execution_count": null,
   "metadata": {
    "collapsed": true
   },
   "outputs": [],
   "source": []
  }
 ],
 "metadata": {
  "kernelspec": {
   "display_name": "Python 3",
   "language": "python",
   "name": "python3"
  },
  "language_info": {
   "codemirror_mode": {
    "name": "ipython",
    "version": 3
   },
   "file_extension": ".py",
   "mimetype": "text/x-python",
   "name": "python",
   "nbconvert_exporter": "python",
   "pygments_lexer": "ipython3",
   "version": "3.5.4"
  },
  "widgets": {
   "state": {},
   "version": "1.1.2"
  }
 },
 "nbformat": 4,
 "nbformat_minor": 2
}
